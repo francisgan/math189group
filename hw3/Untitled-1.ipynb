{
 "cells": [
  {
   "cell_type": "code",
   "execution_count": 28,
   "metadata": {},
   "outputs": [],
   "source": [
    "import pandas as pd\n",
    "import numpy as np\n",
    "import matplotlib.pyplot as plt\n",
    "import os\n",
    "from itertools import combinations\n",
    "import scipy\n",
    "import re"
   ]
  },
  {
   "attachments": {},
   "cell_type": "markdown",
   "metadata": {},
   "source": [
    "## Problem 1"
   ]
  },
  {
   "cell_type": "code",
   "execution_count": 29,
   "metadata": {},
   "outputs": [
    {
     "data": {
      "text/html": [
       "<div>\n",
       "<style scoped>\n",
       "    .dataframe tbody tr th:only-of-type {\n",
       "        vertical-align: middle;\n",
       "    }\n",
       "\n",
       "    .dataframe tbody tr th {\n",
       "        vertical-align: top;\n",
       "    }\n",
       "\n",
       "    .dataframe thead th {\n",
       "        text-align: right;\n",
       "    }\n",
       "</style>\n",
       "<table border=\"1\" class=\"dataframe\">\n",
       "  <thead>\n",
       "    <tr style=\"text-align: right;\">\n",
       "      <th></th>\n",
       "      <th>bottom</th>\n",
       "      <th>surface</th>\n",
       "    </tr>\n",
       "  </thead>\n",
       "  <tbody>\n",
       "    <tr>\n",
       "      <th>0</th>\n",
       "      <td>0.430</td>\n",
       "      <td>0.415</td>\n",
       "    </tr>\n",
       "    <tr>\n",
       "      <th>1</th>\n",
       "      <td>0.266</td>\n",
       "      <td>0.238</td>\n",
       "    </tr>\n",
       "    <tr>\n",
       "      <th>2</th>\n",
       "      <td>0.567</td>\n",
       "      <td>0.390</td>\n",
       "    </tr>\n",
       "    <tr>\n",
       "      <th>3</th>\n",
       "      <td>0.531</td>\n",
       "      <td>0.410</td>\n",
       "    </tr>\n",
       "    <tr>\n",
       "      <th>4</th>\n",
       "      <td>0.707</td>\n",
       "      <td>0.605</td>\n",
       "    </tr>\n",
       "    <tr>\n",
       "      <th>5</th>\n",
       "      <td>0.716</td>\n",
       "      <td>0.609</td>\n",
       "    </tr>\n",
       "    <tr>\n",
       "      <th>6</th>\n",
       "      <td>0.651</td>\n",
       "      <td>0.632</td>\n",
       "    </tr>\n",
       "    <tr>\n",
       "      <th>7</th>\n",
       "      <td>0.589</td>\n",
       "      <td>0.523</td>\n",
       "    </tr>\n",
       "    <tr>\n",
       "      <th>8</th>\n",
       "      <td>0.469</td>\n",
       "      <td>0.411</td>\n",
       "    </tr>\n",
       "    <tr>\n",
       "      <th>9</th>\n",
       "      <td>0.723</td>\n",
       "      <td>0.612</td>\n",
       "    </tr>\n",
       "  </tbody>\n",
       "</table>\n",
       "</div>"
      ],
      "text/plain": [
       "   bottom  surface\n",
       "0   0.430    0.415\n",
       "1   0.266    0.238\n",
       "2   0.567    0.390\n",
       "3   0.531    0.410\n",
       "4   0.707    0.605\n",
       "5   0.716    0.609\n",
       "6   0.651    0.632\n",
       "7   0.589    0.523\n",
       "8   0.469    0.411\n",
       "9   0.723    0.612"
      ]
     },
     "execution_count": 29,
     "metadata": {},
     "output_type": "execute_result"
    }
   ],
   "source": [
    "df = pd.DataFrame(data=[[0.43,0.415],[0.266,0.238],[0.567,0.39],\\\n",
    "    [0.531,0.41],[0.707,0.605],[0.716,0.609],[0.651,0.632],[0.589,0.523]\\\n",
    "    ,[0.469,0.411],[0.723,0.612]],columns=['bottom','surface']).astype(float)\n",
    "df # create date set"
   ]
  },
  {
   "cell_type": "code",
   "execution_count": 30,
   "metadata": {},
   "outputs": [
    {
     "data": {
      "text/plain": [
       "1.2366104015295314"
      ]
     },
     "execution_count": 30,
     "metadata": {},
     "output_type": "execute_result"
    }
   ],
   "source": [
    "diff = df['bottom']-df['surface']\n",
    "diff_mean = diff.mean()\n",
    "diff_std = diff.std()\n",
    "n=10  \n",
    "m=1 \n",
    "T2 = n*(diff_mean**2)/diff_std  #Calculate T^2\n",
    "T2"
   ]
  },
  {
   "cell_type": "code",
   "execution_count": 31,
   "metadata": {},
   "outputs": [
    {
     "data": {
      "text/plain": [
       "100.16544252389204"
      ]
     },
     "execution_count": 31,
     "metadata": {},
     "output_type": "execute_result"
    }
   ],
   "source": [
    "F = ( (n-m)/m*(n-1) ) * T2  # Transformaing T^2 statistic into F for small sample\n",
    "F"
   ]
  },
  {
   "cell_type": "code",
   "execution_count": 32,
   "metadata": {},
   "outputs": [
    {
     "data": {
      "text/plain": [
       "240.54325471326283"
      ]
     },
     "execution_count": 32,
     "metadata": {},
     "output_type": "execute_result"
    }
   ],
   "source": [
    "F_mnma = scipy.stats.f.ppf(0.95,n-m,m) #F_m,n-m,a\n",
    "F_mnma"
   ]
  },
  {
   "cell_type": "code",
   "execution_count": 33,
   "metadata": {},
   "outputs": [
    {
     "data": {
      "text/plain": [
       "False"
      ]
     },
     "execution_count": 33,
     "metadata": {},
     "output_type": "execute_result"
    }
   ],
   "source": [
    "F > F_mnma # false means do not reject"
   ]
  },
  {
   "attachments": {},
   "cell_type": "markdown",
   "metadata": {},
   "source": [
    "F statistic  < F_m,n-m,a\n",
    "We do not reject H0."
   ]
  },
  {
   "attachments": {},
   "cell_type": "markdown",
   "metadata": {},
   "source": [
    "## Problem 2"
   ]
  },
  {
   "attachments": {},
   "cell_type": "markdown",
   "metadata": {},
   "source": [
    "read and clean data"
   ]
  },
  {
   "cell_type": "code",
   "execution_count": 34,
   "metadata": {},
   "outputs": [
    {
     "data": {
      "text/html": [
       "<div>\n",
       "<style scoped>\n",
       "    .dataframe tbody tr th:only-of-type {\n",
       "        vertical-align: middle;\n",
       "    }\n",
       "\n",
       "    .dataframe tbody tr th {\n",
       "        vertical-align: top;\n",
       "    }\n",
       "\n",
       "    .dataframe thead th {\n",
       "        text-align: right;\n",
       "    }\n",
       "</style>\n",
       "<table border=\"1\" class=\"dataframe\">\n",
       "  <thead>\n",
       "    <tr style=\"text-align: right;\">\n",
       "      <th></th>\n",
       "      <th>Al2O3</th>\n",
       "      <th>Fe2O3</th>\n",
       "      <th>MgO</th>\n",
       "      <th>CaO</th>\n",
       "      <th>Na2O</th>\n",
       "      <th>K2O</th>\n",
       "      <th>TiO2</th>\n",
       "      <th>MnO</th>\n",
       "      <th>BaO</th>\n",
       "      <th>kiln</th>\n",
       "    </tr>\n",
       "  </thead>\n",
       "  <tbody>\n",
       "    <tr>\n",
       "      <th>0</th>\n",
       "      <td>18.8</td>\n",
       "      <td>9.52</td>\n",
       "      <td>2.00</td>\n",
       "      <td>0.79</td>\n",
       "      <td>0.40</td>\n",
       "      <td>3.20</td>\n",
       "      <td>1.01</td>\n",
       "      <td>0.077</td>\n",
       "      <td>0.015</td>\n",
       "      <td>1</td>\n",
       "    </tr>\n",
       "    <tr>\n",
       "      <th>1</th>\n",
       "      <td>16.9</td>\n",
       "      <td>7.33</td>\n",
       "      <td>1.65</td>\n",
       "      <td>0.84</td>\n",
       "      <td>0.40</td>\n",
       "      <td>3.05</td>\n",
       "      <td>0.99</td>\n",
       "      <td>0.067</td>\n",
       "      <td>0.018</td>\n",
       "      <td>1</td>\n",
       "    </tr>\n",
       "    <tr>\n",
       "      <th>2</th>\n",
       "      <td>18.2</td>\n",
       "      <td>7.64</td>\n",
       "      <td>1.82</td>\n",
       "      <td>0.77</td>\n",
       "      <td>0.40</td>\n",
       "      <td>3.07</td>\n",
       "      <td>0.98</td>\n",
       "      <td>0.087</td>\n",
       "      <td>0.014</td>\n",
       "      <td>1</td>\n",
       "    </tr>\n",
       "    <tr>\n",
       "      <th>3</th>\n",
       "      <td>16.9</td>\n",
       "      <td>7.29</td>\n",
       "      <td>1.56</td>\n",
       "      <td>0.76</td>\n",
       "      <td>0.40</td>\n",
       "      <td>3.05</td>\n",
       "      <td>1.00</td>\n",
       "      <td>0.063</td>\n",
       "      <td>0.019</td>\n",
       "      <td>1</td>\n",
       "    </tr>\n",
       "    <tr>\n",
       "      <th>4</th>\n",
       "      <td>17.8</td>\n",
       "      <td>7.24</td>\n",
       "      <td>1.83</td>\n",
       "      <td>0.92</td>\n",
       "      <td>0.43</td>\n",
       "      <td>3.12</td>\n",
       "      <td>0.93</td>\n",
       "      <td>0.061</td>\n",
       "      <td>0.019</td>\n",
       "      <td>1</td>\n",
       "    </tr>\n",
       "  </tbody>\n",
       "</table>\n",
       "</div>"
      ],
      "text/plain": [
       "   Al2O3  Fe2O3   MgO   CaO  Na2O   K2O  TiO2    MnO    BaO  kiln\n",
       "0   18.8   9.52  2.00  0.79  0.40  3.20  1.01  0.077  0.015     1\n",
       "1   16.9   7.33  1.65  0.84  0.40  3.05  0.99  0.067  0.018     1\n",
       "2   18.2   7.64  1.82  0.77  0.40  3.07  0.98  0.087  0.014     1\n",
       "3   16.9   7.29  1.56  0.76  0.40  3.05  1.00  0.063  0.019     1\n",
       "4   17.8   7.24  1.83  0.92  0.43  3.12  0.93  0.061  0.019     1"
      ]
     },
     "execution_count": 34,
     "metadata": {},
     "output_type": "execute_result"
    }
   ],
   "source": [
    "df= pd.read_csv('pottery.csv')\n",
    "df = df.drop(columns=['Unnamed: 0'])\n",
    "df = df[df['kiln'] != 3]  # Reading and cleaning data\n",
    "grand_mean = df.loc[:, df.columns != 'kiln'].mean() # grand mean for each variable\n",
    "df.head() #display first five observations\n",
    "\n"
   ]
  },
  {
   "cell_type": "code",
   "execution_count": 35,
   "metadata": {},
   "outputs": [
    {
     "name": "stdout",
     "output_type": "stream",
     "text": [
      "Al2O3    95.937548\n",
      "Fe2O3    19.767617\n",
      "MgO      15.211988\n",
      "CaO       1.755473\n",
      "Na2O      0.731214\n",
      "K2O       3.845135\n",
      "TiO2      0.578913\n",
      "MnO       0.018690\n",
      "BaO       0.000363\n",
      "dtype: float64\n"
     ]
    }
   ],
   "source": [
    "SS_error_vector = df.groupby('kiln').agg(lambda x: (len(x)-1 )* x.var()).sum() # Calculate SS error for each variable\n",
    "print(SS_error_vector)"
   ]
  },
  {
   "cell_type": "code",
   "execution_count": 36,
   "metadata": {},
   "outputs": [
    {
     "name": "stdout",
     "output_type": "stream",
     "text": [
      "Al2O3    191.881522\n",
      "Fe2O3    234.656294\n",
      "MgO      114.402687\n",
      "CaO        7.224732\n",
      "Na2O       0.588637\n",
      "K2O       24.183493\n",
      "TiO2       0.652766\n",
      "MnO        0.075848\n",
      "BaO        0.000013\n",
      "dtype: float64\n"
     ]
    }
   ],
   "source": [
    "SS_treat_vector = (df.groupby('kiln').transform('mean') - grand_mean)**2\n",
    "SS_treat_vector['kiln'] = df['kiln']\n",
    "SS_treat_vector = SS_treat_vector.groupby('kiln').sum().sum()   #calculate SS treat for each variable\n",
    "print(SS_treat_vector)\n"
   ]
  },
  {
   "cell_type": "code",
   "execution_count": 37,
   "metadata": {},
   "outputs": [
    {
     "name": "stdout",
     "output_type": "stream",
     "text": [
      "Al2O3    2.459937\n",
      "Fe2O3    0.506862\n",
      "MgO      0.390051\n",
      "CaO      0.045012\n",
      "Na2O     0.018749\n",
      "K2O      0.098593\n",
      "TiO2     0.014844\n",
      "MnO      0.000479\n",
      "BaO      0.000009\n",
      "dtype: float64\n"
     ]
    }
   ],
   "source": [
    "N = df.shape[0] # total sample size\n",
    "g = 4 # number of samples(sites)\n",
    "\n",
    "MS_error_vector = SS_error_vector / (N-g)  # Transform SS error into MS error\n",
    "print(MS_error_vector)"
   ]
  },
  {
   "cell_type": "code",
   "execution_count": 38,
   "metadata": {},
   "outputs": [
    {
     "name": "stdout",
     "output_type": "stream",
     "text": [
      "Al2O3    63.960507\n",
      "Fe2O3    78.218765\n",
      "MgO      38.134229\n",
      "CaO       2.408244\n",
      "Na2O      0.196212\n",
      "K2O       8.061164\n",
      "TiO2      0.217589\n",
      "MnO       0.025283\n",
      "BaO       0.000004\n",
      "dtype: float64\n"
     ]
    }
   ],
   "source": [
    "MS_treat_vector = SS_treat_vector / (g - 1) #Transform SS treat into MS treat\n",
    "print(MS_treat_vector)"
   ]
  },
  {
   "cell_type": "code",
   "execution_count": 39,
   "metadata": {},
   "outputs": [
    {
     "name": "stdout",
     "output_type": "stream",
     "text": [
      "Al2O3     26.000871\n",
      "Fe2O3    154.319654\n",
      "MgO       97.767298\n",
      "CaO       53.502126\n",
      "Na2O      10.465167\n",
      "K2O       81.761859\n",
      "TiO2      14.658454\n",
      "MnO       52.756295\n",
      "BaO        0.459020\n",
      "dtype: float64\n"
     ]
    }
   ],
   "source": [
    "F = MS_treat_vector/MS_error_vector #Calculate F statistic\n",
    "print(F)  "
   ]
  },
  {
   "cell_type": "code",
   "execution_count": 40,
   "metadata": {},
   "outputs": [
    {
     "data": {
      "text/plain": [
       "array([2.08349515e-09, 1.11022302e-16, 1.11022302e-16, 6.88338275e-14,\n",
       "       3.48017068e-05, 1.11022302e-16, 1.52468510e-06, 8.55981952e-14,\n",
       "       7.12481811e-01])"
      ]
     },
     "execution_count": 40,
     "metadata": {},
     "output_type": "execute_result"
    }
   ],
   "source": [
    "p_value = 1-scipy.stats.f.cdf(F, g-1, N-g) # Transform F Statistic into p-value base on F distribution\n",
    "p_value"
   ]
  },
  {
   "attachments": {},
   "cell_type": "markdown",
   "metadata": {},
   "source": [
    "### q2.2"
   ]
  },
  {
   "cell_type": "code",
   "execution_count": 41,
   "metadata": {},
   "outputs": [
    {
     "name": "stdout",
     "output_type": "stream",
     "text": [
      "[ True  True  True  True  True  True  True  True False]\n"
     ]
    }
   ],
   "source": [
    "alpha = 0.05             #Apply Bonferroni orrection\n",
    "print(p_value < alpha/9) #True means reject"
   ]
  },
  {
   "attachments": {},
   "cell_type": "markdown",
   "metadata": {},
   "source": [
    "We reject the null for all nine elements, meaning at least one site has a different population mean with the other sites for each element."
   ]
  },
  {
   "attachments": {},
   "cell_type": "markdown",
   "metadata": {},
   "source": [
    "### Q2.3"
   ]
  },
  {
   "cell_type": "code",
   "execution_count": 42,
   "metadata": {},
   "outputs": [
    {
     "name": "stdout",
     "output_type": "stream",
     "text": [
      "7\n"
     ]
    }
   ],
   "source": [
    "#Apply BH procudure\n",
    "sorted_p = p_value.copy().tolist()     \n",
    "sorted_p.sort() # sort the list to increasing order     (note:order of original p-value list stay the same)\n",
    "k=0\n",
    "for i in range(9):\n",
    "    if sorted_p[i] <= (i+1)*0.1/50: # find the largest k such that p(k) <= k/m * a ; i+1 since i starts with 1 instead of\n",
    "        k=i\n",
    "        \n",
    "print(k) # the largest k that we find, our k start at 0\n"
   ]
  },
  {
   "cell_type": "code",
   "execution_count": 43,
   "metadata": {},
   "outputs": [
    {
     "name": "stdout",
     "output_type": "stream",
     "text": [
      "[ True  True  True  True  True  True  True  True False]\n"
     ]
    }
   ],
   "source": [
    "bh_result = (p_value<=sorted_p[k]) # find H0 the p(j) <= p(k*)\n",
    "print(bh_result)  \n",
    "\n",
    "#If True, it means reject; If False, it means we can't reject H0\n",
    "#result with bh procedure"
   ]
  },
  {
   "attachments": {},
   "cell_type": "markdown",
   "metadata": {},
   "source": [
    "After applying the Benjamini-Hochberg method, we reject the hypothesis for the first eight elements and pass the hypothesis for the last element. The results show that for the first eight elements, there is at least one site that has different different population mean with the others; for the last element, all sites have same population mean. However, since there is at least one reject, so we reject H0:µ1=µ2=µ4=µ5"
   ]
  },
  {
   "attachments": {},
   "cell_type": "markdown",
   "metadata": {},
   "source": [
    "Everyone in this group contributed equally."
   ]
  }
 ],
 "metadata": {
  "kernelspec": {
   "display_name": "base",
   "language": "python",
   "name": "python3"
  },
  "language_info": {
   "codemirror_mode": {
    "name": "ipython",
    "version": 3
   },
   "file_extension": ".py",
   "mimetype": "text/x-python",
   "name": "python",
   "nbconvert_exporter": "python",
   "pygments_lexer": "ipython3",
   "version": "3.9.13"
  },
  "orig_nbformat": 4,
  "vscode": {
   "interpreter": {
    "hash": "3e129cbb0d59d60985fcd412db9012244779d70efa202abe08c24ca536b8f9fe"
   }
  }
 },
 "nbformat": 4,
 "nbformat_minor": 2
}
