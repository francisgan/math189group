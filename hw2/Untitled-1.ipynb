{
 "cells": [
  {
   "cell_type": "code",
   "execution_count": 1,
   "metadata": {},
   "outputs": [],
   "source": [
    "import pandas as pd\n",
    "import numpy as np\n",
    "import matplotlib.pyplot as plt\n",
    "import os\n",
    "from itertools import combinations\n",
    "import scipy\n",
    "import re"
   ]
  },
  {
   "attachments": {},
   "cell_type": "markdown",
   "metadata": {},
   "source": [
    "Problem 1"
   ]
  },
  {
   "cell_type": "code",
   "execution_count": 2,
   "metadata": {},
   "outputs": [
    {
     "data": {
      "text/html": [
       "<div>\n",
       "<style scoped>\n",
       "    .dataframe tbody tr th:only-of-type {\n",
       "        vertical-align: middle;\n",
       "    }\n",
       "\n",
       "    .dataframe tbody tr th {\n",
       "        vertical-align: top;\n",
       "    }\n",
       "\n",
       "    .dataframe thead th {\n",
       "        text-align: right;\n",
       "    }\n",
       "</style>\n",
       "<table border=\"1\" class=\"dataframe\">\n",
       "  <thead>\n",
       "    <tr style=\"text-align: right;\">\n",
       "      <th></th>\n",
       "      <th>Calcium</th>\n",
       "      <th>Iron</th>\n",
       "      <th>Protein</th>\n",
       "      <th>Vitamin A</th>\n",
       "      <th>Vitamin C</th>\n",
       "    </tr>\n",
       "  </thead>\n",
       "  <tbody>\n",
       "    <tr>\n",
       "      <th>0</th>\n",
       "      <td>522.29</td>\n",
       "      <td>10.188</td>\n",
       "      <td>42.561</td>\n",
       "      <td>349.13</td>\n",
       "      <td>54.141</td>\n",
       "    </tr>\n",
       "    <tr>\n",
       "      <th>1</th>\n",
       "      <td>343.32</td>\n",
       "      <td>4.113</td>\n",
       "      <td>67.793</td>\n",
       "      <td>266.99</td>\n",
       "      <td>24.839</td>\n",
       "    </tr>\n",
       "    <tr>\n",
       "      <th>2</th>\n",
       "      <td>858.26</td>\n",
       "      <td>13.741</td>\n",
       "      <td>59.933</td>\n",
       "      <td>667.90</td>\n",
       "      <td>155.455</td>\n",
       "    </tr>\n",
       "    <tr>\n",
       "      <th>3</th>\n",
       "      <td>575.98</td>\n",
       "      <td>13.245</td>\n",
       "      <td>42.215</td>\n",
       "      <td>792.23</td>\n",
       "      <td>224.688</td>\n",
       "    </tr>\n",
       "    <tr>\n",
       "      <th>4</th>\n",
       "      <td>1927.50</td>\n",
       "      <td>18.919</td>\n",
       "      <td>111.316</td>\n",
       "      <td>740.27</td>\n",
       "      <td>80.961</td>\n",
       "    </tr>\n",
       "    <tr>\n",
       "      <th>...</th>\n",
       "      <td>...</td>\n",
       "      <td>...</td>\n",
       "      <td>...</td>\n",
       "      <td>...</td>\n",
       "      <td>...</td>\n",
       "    </tr>\n",
       "    <tr>\n",
       "      <th>732</th>\n",
       "      <td>217.96</td>\n",
       "      <td>6.447</td>\n",
       "      <td>37.294</td>\n",
       "      <td>260.16</td>\n",
       "      <td>23.616</td>\n",
       "    </tr>\n",
       "    <tr>\n",
       "      <th>733</th>\n",
       "      <td>416.19</td>\n",
       "      <td>7.156</td>\n",
       "      <td>36.991</td>\n",
       "      <td>552.76</td>\n",
       "      <td>18.908</td>\n",
       "    </tr>\n",
       "    <tr>\n",
       "      <th>734</th>\n",
       "      <td>93.43</td>\n",
       "      <td>6.484</td>\n",
       "      <td>35.467</td>\n",
       "      <td>264.63</td>\n",
       "      <td>48.105</td>\n",
       "    </tr>\n",
       "    <tr>\n",
       "      <th>735</th>\n",
       "      <td>419.04</td>\n",
       "      <td>7.545</td>\n",
       "      <td>16.894</td>\n",
       "      <td>96.79</td>\n",
       "      <td>320.558</td>\n",
       "    </tr>\n",
       "    <tr>\n",
       "      <th>736</th>\n",
       "      <td>1156.49</td>\n",
       "      <td>17.252</td>\n",
       "      <td>69.045</td>\n",
       "      <td>1087.98</td>\n",
       "      <td>152.650</td>\n",
       "    </tr>\n",
       "  </tbody>\n",
       "</table>\n",
       "<p>737 rows × 5 columns</p>\n",
       "</div>"
      ],
      "text/plain": [
       "     Calcium    Iron  Protein  Vitamin A  Vitamin C\n",
       "0     522.29  10.188   42.561     349.13     54.141\n",
       "1     343.32   4.113   67.793     266.99     24.839\n",
       "2     858.26  13.741   59.933     667.90    155.455\n",
       "3     575.98  13.245   42.215     792.23    224.688\n",
       "4    1927.50  18.919  111.316     740.27     80.961\n",
       "..       ...     ...      ...        ...        ...\n",
       "732   217.96   6.447   37.294     260.16     23.616\n",
       "733   416.19   7.156   36.991     552.76     18.908\n",
       "734    93.43   6.484   35.467     264.63     48.105\n",
       "735   419.04   7.545   16.894      96.79    320.558\n",
       "736  1156.49  17.252   69.045    1087.98    152.650\n",
       "\n",
       "[737 rows x 5 columns]"
      ]
     },
     "execution_count": 2,
     "metadata": {},
     "output_type": "execute_result"
    }
   ],
   "source": [
    "a = open('nutrient.txt')\n",
    "lst = a.readlines()\n",
    "p1_data = list(map(lambda x:re.sub('  +',' ',x).strip().split(' ')[1:],lst))\n",
    "\n",
    "p1_df = pd.DataFrame(data=p1_data,columns=['Calcium','Iron','Protein', 'Vitamin A', 'Vitamin C']).astype(float)\n",
    "p1_df"
   ]
  },
  {
   "attachments": {},
   "cell_type": "markdown",
   "metadata": {},
   "source": [
    "q 1.1"
   ]
  },
  {
   "cell_type": "code",
   "execution_count": 3,
   "metadata": {},
   "outputs": [
    {
     "data": {
      "text/plain": [
       "Calcium      624.049254\n",
       "Iron          11.129900\n",
       "Protein       65.803441\n",
       "Vitamin A    839.635346\n",
       "Vitamin C     78.928446\n",
       "dtype: float64"
      ]
     },
     "execution_count": 3,
     "metadata": {},
     "output_type": "execute_result"
    }
   ],
   "source": [
    "p1_df.mean()"
   ]
  },
  {
   "cell_type": "code",
   "execution_count": 4,
   "metadata": {},
   "outputs": [
    {
     "data": {
      "text/plain": [
       "Calcium       397.277540\n",
       "Iron            5.984190\n",
       "Protein        30.575756\n",
       "Vitamin A    1633.539828\n",
       "Vitamin C      73.595272\n",
       "dtype: float64"
      ]
     },
     "execution_count": 4,
     "metadata": {},
     "output_type": "execute_result"
    }
   ],
   "source": [
    "p1_df.std()"
   ]
  },
  {
   "attachments": {},
   "cell_type": "markdown",
   "metadata": {},
   "source": [
    "q 1.2"
   ]
  },
  {
   "cell_type": "code",
   "execution_count": 5,
   "metadata": {},
   "outputs": [],
   "source": [
    "h0=[1000, 15, 60, 800, 75] #setup null hypothesis h0 values"
   ]
  },
  {
   "cell_type": "code",
   "execution_count": 6,
   "metadata": {},
   "outputs": [
    {
     "data": {
      "text/plain": [
       "Calcium      25.690389\n",
       "Iron         17.557010\n",
       "Protein       5.152786\n",
       "Vitamin A     0.658698\n",
       "Vitamin C     1.449121\n",
       "dtype: float64"
      ]
     },
     "execution_count": 6,
     "metadata": {},
     "output_type": "execute_result"
    }
   ],
   "source": [
    "abs((p1_df.mean() - h0)/(p1_df.std()/ np.sqrt(p1_df.count()))) #z-score"
   ]
  },
  {
   "cell_type": "code",
   "execution_count": 7,
   "metadata": {},
   "outputs": [],
   "source": [
    "p_values=scipy.stats.norm.sf(abs((p1_df.mean() - h0)/(p1_df.std()/ np.sqrt(p1_df.count()))))*2 #transfer t-value to p-value, two-sided\n"
   ]
  },
  {
   "cell_type": "code",
   "execution_count": 8,
   "metadata": {},
   "outputs": [
    {
     "name": "stdout",
     "output_type": "stream",
     "text": [
      "[ True  True  True False False]\n"
     ]
    }
   ],
   "source": [
    "print(p_values<0.05) #result"
   ]
  },
  {
   "attachments": {},
   "cell_type": "markdown",
   "metadata": {},
   "source": [
    "q 1.3\n",
    "\n",
    "Based on the t-test results we obtained in step 2, Calcium, Iron and Protein are all rejected but Vitamin A and C are not rejected. The result indicates that the sample population did not reach the recommended intake level for Calcium, Iron and Protein. However, the sample population possibly reached the recommended intake level of Vitamin A and C. I would say the US women do not meet the recommended nutrient intake amount since they failed to meet 3 out of 5 of the standards. I would suggest to the public that they should consume more food containing all five types of the nutrients especially Calcium, Iron and Protein. Even though US women possibly reached the recommended level of Vitamin A and C, people generally should still consume "
   ]
  },
  {
   "attachments": {},
   "cell_type": "markdown",
   "metadata": {},
   "source": [
    "Problem 2"
   ]
  },
  {
   "cell_type": "code",
   "execution_count": 9,
   "metadata": {},
   "outputs": [],
   "source": [
    "b = open('multiple.txt')\n",
    "lst = b.readlines()\n",
    "p2_data = list(map(lambda x:x.strip().split(' '),lst)) #read data\n"
   ]
  },
  {
   "cell_type": "code",
   "execution_count": 10,
   "metadata": {},
   "outputs": [
    {
     "data": {
      "text/html": [
       "<div>\n",
       "<style scoped>\n",
       "    .dataframe tbody tr th:only-of-type {\n",
       "        vertical-align: middle;\n",
       "    }\n",
       "\n",
       "    .dataframe tbody tr th {\n",
       "        vertical-align: top;\n",
       "    }\n",
       "\n",
       "    .dataframe thead th {\n",
       "        text-align: right;\n",
       "    }\n",
       "</style>\n",
       "<table border=\"1\" class=\"dataframe\">\n",
       "  <thead>\n",
       "    <tr style=\"text-align: right;\">\n",
       "      <th></th>\n",
       "      <th>0</th>\n",
       "      <th>1</th>\n",
       "      <th>2</th>\n",
       "      <th>3</th>\n",
       "      <th>4</th>\n",
       "      <th>5</th>\n",
       "      <th>6</th>\n",
       "      <th>7</th>\n",
       "      <th>8</th>\n",
       "      <th>9</th>\n",
       "      <th>...</th>\n",
       "      <th>40</th>\n",
       "      <th>41</th>\n",
       "      <th>42</th>\n",
       "      <th>43</th>\n",
       "      <th>44</th>\n",
       "      <th>45</th>\n",
       "      <th>46</th>\n",
       "      <th>47</th>\n",
       "      <th>48</th>\n",
       "      <th>49</th>\n",
       "    </tr>\n",
       "  </thead>\n",
       "  <tbody>\n",
       "    <tr>\n",
       "      <th>0</th>\n",
       "      <td>1.747662</td>\n",
       "      <td>1.114154</td>\n",
       "      <td>1.900115</td>\n",
       "      <td>2.677641</td>\n",
       "      <td>3.219533</td>\n",
       "      <td>1.188286</td>\n",
       "      <td>2.465380</td>\n",
       "      <td>2.967892</td>\n",
       "      <td>1.365203</td>\n",
       "      <td>2.269891</td>\n",
       "      <td>...</td>\n",
       "      <td>0.894277</td>\n",
       "      <td>-1.293146</td>\n",
       "      <td>-1.070990</td>\n",
       "      <td>0.263181</td>\n",
       "      <td>1.354995</td>\n",
       "      <td>0.279457</td>\n",
       "      <td>0.980817</td>\n",
       "      <td>1.297687</td>\n",
       "      <td>-0.595363</td>\n",
       "      <td>-0.353399</td>\n",
       "    </tr>\n",
       "    <tr>\n",
       "      <th>1</th>\n",
       "      <td>1.709540</td>\n",
       "      <td>2.178064</td>\n",
       "      <td>2.752464</td>\n",
       "      <td>2.948217</td>\n",
       "      <td>1.657075</td>\n",
       "      <td>2.830056</td>\n",
       "      <td>2.563682</td>\n",
       "      <td>1.832659</td>\n",
       "      <td>2.356763</td>\n",
       "      <td>0.831286</td>\n",
       "      <td>...</td>\n",
       "      <td>-1.083143</td>\n",
       "      <td>-0.068277</td>\n",
       "      <td>-0.582402</td>\n",
       "      <td>-1.284537</td>\n",
       "      <td>0.789309</td>\n",
       "      <td>0.161570</td>\n",
       "      <td>-0.076299</td>\n",
       "      <td>-0.336776</td>\n",
       "      <td>0.899851</td>\n",
       "      <td>0.393620</td>\n",
       "    </tr>\n",
       "    <tr>\n",
       "      <th>2</th>\n",
       "      <td>2.391362</td>\n",
       "      <td>3.342728</td>\n",
       "      <td>1.559341</td>\n",
       "      <td>2.407792</td>\n",
       "      <td>1.917276</td>\n",
       "      <td>1.973562</td>\n",
       "      <td>1.887841</td>\n",
       "      <td>2.066242</td>\n",
       "      <td>2.184989</td>\n",
       "      <td>2.346512</td>\n",
       "      <td>...</td>\n",
       "      <td>-0.239927</td>\n",
       "      <td>1.440747</td>\n",
       "      <td>-0.640490</td>\n",
       "      <td>0.219711</td>\n",
       "      <td>1.047456</td>\n",
       "      <td>-0.313826</td>\n",
       "      <td>0.231972</td>\n",
       "      <td>0.945865</td>\n",
       "      <td>-1.632269</td>\n",
       "      <td>1.185324</td>\n",
       "    </tr>\n",
       "    <tr>\n",
       "      <th>3</th>\n",
       "      <td>2.341854</td>\n",
       "      <td>2.172060</td>\n",
       "      <td>1.028088</td>\n",
       "      <td>1.841931</td>\n",
       "      <td>1.517677</td>\n",
       "      <td>0.982251</td>\n",
       "      <td>1.981838</td>\n",
       "      <td>2.628414</td>\n",
       "      <td>3.425765</td>\n",
       "      <td>0.793864</td>\n",
       "      <td>...</td>\n",
       "      <td>0.878121</td>\n",
       "      <td>-0.705710</td>\n",
       "      <td>0.981031</td>\n",
       "      <td>-1.446664</td>\n",
       "      <td>-0.311183</td>\n",
       "      <td>0.536940</td>\n",
       "      <td>-0.639328</td>\n",
       "      <td>-0.430591</td>\n",
       "      <td>-2.220153</td>\n",
       "      <td>-0.441856</td>\n",
       "    </tr>\n",
       "    <tr>\n",
       "      <th>4</th>\n",
       "      <td>3.445349</td>\n",
       "      <td>-0.261149</td>\n",
       "      <td>1.108768</td>\n",
       "      <td>2.472473</td>\n",
       "      <td>2.865143</td>\n",
       "      <td>2.361809</td>\n",
       "      <td>2.407838</td>\n",
       "      <td>3.107886</td>\n",
       "      <td>2.320515</td>\n",
       "      <td>0.658484</td>\n",
       "      <td>...</td>\n",
       "      <td>0.117548</td>\n",
       "      <td>0.945937</td>\n",
       "      <td>0.715850</td>\n",
       "      <td>0.347381</td>\n",
       "      <td>0.054541</td>\n",
       "      <td>0.162967</td>\n",
       "      <td>0.678871</td>\n",
       "      <td>-1.304972</td>\n",
       "      <td>-0.005204</td>\n",
       "      <td>-0.358206</td>\n",
       "    </tr>\n",
       "    <tr>\n",
       "      <th>...</th>\n",
       "      <td>...</td>\n",
       "      <td>...</td>\n",
       "      <td>...</td>\n",
       "      <td>...</td>\n",
       "      <td>...</td>\n",
       "      <td>...</td>\n",
       "      <td>...</td>\n",
       "      <td>...</td>\n",
       "      <td>...</td>\n",
       "      <td>...</td>\n",
       "      <td>...</td>\n",
       "      <td>...</td>\n",
       "      <td>...</td>\n",
       "      <td>...</td>\n",
       "      <td>...</td>\n",
       "      <td>...</td>\n",
       "      <td>...</td>\n",
       "      <td>...</td>\n",
       "      <td>...</td>\n",
       "      <td>...</td>\n",
       "      <td>...</td>\n",
       "    </tr>\n",
       "    <tr>\n",
       "      <th>95</th>\n",
       "      <td>5.041198</td>\n",
       "      <td>1.619071</td>\n",
       "      <td>1.642888</td>\n",
       "      <td>1.963205</td>\n",
       "      <td>0.234810</td>\n",
       "      <td>1.843985</td>\n",
       "      <td>0.967495</td>\n",
       "      <td>1.910681</td>\n",
       "      <td>2.945714</td>\n",
       "      <td>3.561969</td>\n",
       "      <td>...</td>\n",
       "      <td>-0.239288</td>\n",
       "      <td>1.699939</td>\n",
       "      <td>0.187449</td>\n",
       "      <td>0.382381</td>\n",
       "      <td>0.391799</td>\n",
       "      <td>-0.759598</td>\n",
       "      <td>0.666542</td>\n",
       "      <td>-0.239462</td>\n",
       "      <td>-1.509418</td>\n",
       "      <td>-0.624299</td>\n",
       "    </tr>\n",
       "    <tr>\n",
       "      <th>96</th>\n",
       "      <td>2.364375</td>\n",
       "      <td>1.732123</td>\n",
       "      <td>2.361216</td>\n",
       "      <td>1.654104</td>\n",
       "      <td>2.210516</td>\n",
       "      <td>-0.564806</td>\n",
       "      <td>1.701118</td>\n",
       "      <td>1.358194</td>\n",
       "      <td>1.476859</td>\n",
       "      <td>1.032758</td>\n",
       "      <td>...</td>\n",
       "      <td>0.251157</td>\n",
       "      <td>-1.384411</td>\n",
       "      <td>-1.138922</td>\n",
       "      <td>-2.311561</td>\n",
       "      <td>-0.146611</td>\n",
       "      <td>-0.357875</td>\n",
       "      <td>-0.358509</td>\n",
       "      <td>0.309504</td>\n",
       "      <td>-0.718878</td>\n",
       "      <td>-0.025846</td>\n",
       "    </tr>\n",
       "    <tr>\n",
       "      <th>97</th>\n",
       "      <td>0.972304</td>\n",
       "      <td>2.467291</td>\n",
       "      <td>1.263507</td>\n",
       "      <td>0.745767</td>\n",
       "      <td>1.371747</td>\n",
       "      <td>2.126853</td>\n",
       "      <td>1.238945</td>\n",
       "      <td>0.829157</td>\n",
       "      <td>2.959358</td>\n",
       "      <td>1.784270</td>\n",
       "      <td>...</td>\n",
       "      <td>1.427014</td>\n",
       "      <td>-0.889107</td>\n",
       "      <td>-0.349956</td>\n",
       "      <td>0.797430</td>\n",
       "      <td>0.790293</td>\n",
       "      <td>1.571766</td>\n",
       "      <td>1.382468</td>\n",
       "      <td>0.646755</td>\n",
       "      <td>1.877501</td>\n",
       "      <td>-1.200487</td>\n",
       "    </tr>\n",
       "    <tr>\n",
       "      <th>98</th>\n",
       "      <td>2.167585</td>\n",
       "      <td>0.137981</td>\n",
       "      <td>1.921819</td>\n",
       "      <td>4.021082</td>\n",
       "      <td>1.674903</td>\n",
       "      <td>1.451993</td>\n",
       "      <td>0.538821</td>\n",
       "      <td>1.808357</td>\n",
       "      <td>2.252083</td>\n",
       "      <td>3.030382</td>\n",
       "      <td>...</td>\n",
       "      <td>0.295019</td>\n",
       "      <td>-1.522533</td>\n",
       "      <td>0.625780</td>\n",
       "      <td>-0.081308</td>\n",
       "      <td>-0.360414</td>\n",
       "      <td>0.133391</td>\n",
       "      <td>-1.118459</td>\n",
       "      <td>-0.994614</td>\n",
       "      <td>-0.765933</td>\n",
       "      <td>-1.328757</td>\n",
       "    </tr>\n",
       "    <tr>\n",
       "      <th>99</th>\n",
       "      <td>1.363061</td>\n",
       "      <td>1.655193</td>\n",
       "      <td>1.031913</td>\n",
       "      <td>2.916062</td>\n",
       "      <td>3.401672</td>\n",
       "      <td>0.688996</td>\n",
       "      <td>1.440560</td>\n",
       "      <td>4.481397</td>\n",
       "      <td>2.078944</td>\n",
       "      <td>1.443082</td>\n",
       "      <td>...</td>\n",
       "      <td>0.746727</td>\n",
       "      <td>-0.745516</td>\n",
       "      <td>-0.070441</td>\n",
       "      <td>-0.991714</td>\n",
       "      <td>0.228577</td>\n",
       "      <td>-1.559625</td>\n",
       "      <td>2.315117</td>\n",
       "      <td>-0.511457</td>\n",
       "      <td>2.370504</td>\n",
       "      <td>-0.012762</td>\n",
       "    </tr>\n",
       "  </tbody>\n",
       "</table>\n",
       "<p>100 rows × 50 columns</p>\n",
       "</div>"
      ],
      "text/plain": [
       "          0         1         2         3         4         5         6   \\\n",
       "0   1.747662  1.114154  1.900115  2.677641  3.219533  1.188286  2.465380   \n",
       "1   1.709540  2.178064  2.752464  2.948217  1.657075  2.830056  2.563682   \n",
       "2   2.391362  3.342728  1.559341  2.407792  1.917276  1.973562  1.887841   \n",
       "3   2.341854  2.172060  1.028088  1.841931  1.517677  0.982251  1.981838   \n",
       "4   3.445349 -0.261149  1.108768  2.472473  2.865143  2.361809  2.407838   \n",
       "..       ...       ...       ...       ...       ...       ...       ...   \n",
       "95  5.041198  1.619071  1.642888  1.963205  0.234810  1.843985  0.967495   \n",
       "96  2.364375  1.732123  2.361216  1.654104  2.210516 -0.564806  1.701118   \n",
       "97  0.972304  2.467291  1.263507  0.745767  1.371747  2.126853  1.238945   \n",
       "98  2.167585  0.137981  1.921819  4.021082  1.674903  1.451993  0.538821   \n",
       "99  1.363061  1.655193  1.031913  2.916062  3.401672  0.688996  1.440560   \n",
       "\n",
       "          7         8         9   ...        40        41        42        43  \\\n",
       "0   2.967892  1.365203  2.269891  ...  0.894277 -1.293146 -1.070990  0.263181   \n",
       "1   1.832659  2.356763  0.831286  ... -1.083143 -0.068277 -0.582402 -1.284537   \n",
       "2   2.066242  2.184989  2.346512  ... -0.239927  1.440747 -0.640490  0.219711   \n",
       "3   2.628414  3.425765  0.793864  ...  0.878121 -0.705710  0.981031 -1.446664   \n",
       "4   3.107886  2.320515  0.658484  ...  0.117548  0.945937  0.715850  0.347381   \n",
       "..       ...       ...       ...  ...       ...       ...       ...       ...   \n",
       "95  1.910681  2.945714  3.561969  ... -0.239288  1.699939  0.187449  0.382381   \n",
       "96  1.358194  1.476859  1.032758  ...  0.251157 -1.384411 -1.138922 -2.311561   \n",
       "97  0.829157  2.959358  1.784270  ...  1.427014 -0.889107 -0.349956  0.797430   \n",
       "98  1.808357  2.252083  3.030382  ...  0.295019 -1.522533  0.625780 -0.081308   \n",
       "99  4.481397  2.078944  1.443082  ...  0.746727 -0.745516 -0.070441 -0.991714   \n",
       "\n",
       "          44        45        46        47        48        49  \n",
       "0   1.354995  0.279457  0.980817  1.297687 -0.595363 -0.353399  \n",
       "1   0.789309  0.161570 -0.076299 -0.336776  0.899851  0.393620  \n",
       "2   1.047456 -0.313826  0.231972  0.945865 -1.632269  1.185324  \n",
       "3  -0.311183  0.536940 -0.639328 -0.430591 -2.220153 -0.441856  \n",
       "4   0.054541  0.162967  0.678871 -1.304972 -0.005204 -0.358206  \n",
       "..       ...       ...       ...       ...       ...       ...  \n",
       "95  0.391799 -0.759598  0.666542 -0.239462 -1.509418 -0.624299  \n",
       "96 -0.146611 -0.357875 -0.358509  0.309504 -0.718878 -0.025846  \n",
       "97  0.790293  1.571766  1.382468  0.646755  1.877501 -1.200487  \n",
       "98 -0.360414  0.133391 -1.118459 -0.994614 -0.765933 -1.328757  \n",
       "99  0.228577 -1.559625  2.315117 -0.511457  2.370504 -0.012762  \n",
       "\n",
       "[100 rows x 50 columns]"
      ]
     },
     "execution_count": 10,
     "metadata": {},
     "output_type": "execute_result"
    }
   ],
   "source": [
    "p2_df = pd.DataFrame(data=p2_data).astype(float) #make data into dataframe\n",
    "p2_df #var and obs"
   ]
  },
  {
   "attachments": {},
   "cell_type": "markdown",
   "metadata": {},
   "source": [
    "q2.1"
   ]
  },
  {
   "cell_type": "code",
   "execution_count": 11,
   "metadata": {},
   "outputs": [],
   "source": [
    "h0=[]  #setup h0 in q2.1\n",
    "for i in range(50):\n",
    "    h0.append(0)\n"
   ]
  },
  {
   "cell_type": "code",
   "execution_count": 12,
   "metadata": {},
   "outputs": [
    {
     "data": {
      "text/plain": [
       "array([3.26663423e-076, 2.82144426e-071, 9.74785586e-075, 2.22460110e-091,\n",
       "       6.84342738e-082, 6.05620574e-073, 8.67540372e-105, 1.56148658e-078,\n",
       "       4.37334614e-077, 8.91756209e-119, 8.49792249e-001, 3.36423564e-001,\n",
       "       8.42952878e-001, 2.32454906e-001, 8.34214190e-001, 3.38677723e-001,\n",
       "       4.47724565e-001, 8.98598780e-001, 4.83894158e-001, 7.98879815e-002,\n",
       "       7.42885015e-001, 4.32586630e-001, 5.50823860e-001, 4.75842155e-001,\n",
       "       7.56738898e-001, 1.32235784e-001, 9.92707837e-001, 2.91866986e-001,\n",
       "       6.77425244e-001, 1.86849941e-001, 4.69979497e-001, 8.98842212e-002,\n",
       "       4.71971579e-001, 9.18793047e-001, 2.10903045e-001, 6.51002406e-001,\n",
       "       3.38540244e-001, 2.18195174e-001, 8.80317411e-001, 7.01201150e-002,\n",
       "       7.16382153e-001, 6.46293610e-001, 6.90648620e-001, 2.26056846e-002,\n",
       "       2.16206358e-001, 7.67191782e-001, 3.46646140e-001, 1.33570674e-001,\n",
       "       8.88393244e-001, 7.30931590e-001])"
      ]
     },
     "execution_count": 12,
     "metadata": {},
     "output_type": "execute_result"
    }
   ],
   "source": [
    "p_values=scipy.stats.norm.sf(abs((p2_df.mean() - h0)/(p2_df.std()/ np.sqrt(p2_df.count()))))*2 #transfer t-score to p-value, two-sided\n",
    "p_values \n"
   ]
  },
  {
   "cell_type": "code",
   "execution_count": 13,
   "metadata": {},
   "outputs": [
    {
     "name": "stdout",
     "output_type": "stream",
     "text": [
      "[ True  True  True  True  True  True  True  True  True  True False False\n",
      " False False False False False False False  True False False False False\n",
      " False False False False False False False  True False False False False\n",
      " False False False  True False False False  True False False False False\n",
      " False False]\n"
     ]
    }
   ],
   "source": [
    "print(p_values<=0.1) #If True, it means reject; If False, it means we can't reject H0"
   ]
  },
  {
   "attachments": {},
   "cell_type": "markdown",
   "metadata": {},
   "source": [
    "q 2.2"
   ]
  },
  {
   "cell_type": "code",
   "execution_count": 14,
   "metadata": {},
   "outputs": [
    {
     "data": {
      "text/plain": [
       "4"
      ]
     },
     "execution_count": 14,
     "metadata": {},
     "output_type": "execute_result"
    }
   ],
   "source": [
    "number_type1_err = sum(p_values[10:]<=0.1) #number of Type I error, which is rejection on var 11~50\n",
    "number_type1_err"
   ]
  },
  {
   "cell_type": "code",
   "execution_count": 15,
   "metadata": {},
   "outputs": [
    {
     "data": {
      "text/plain": [
       "0.9948462247926799"
      ]
     },
     "execution_count": 15,
     "metadata": {},
     "output_type": "execute_result"
    }
   ],
   "source": [
    "1-(1-0.1)**50 #FWER"
   ]
  },
  {
   "cell_type": "code",
   "execution_count": 16,
   "metadata": {},
   "outputs": [
    {
     "data": {
      "text/plain": [
       "0.2857142857142857"
      ]
     },
     "execution_count": 16,
     "metadata": {},
     "output_type": "execute_result"
    }
   ],
   "source": [
    "total_reject = sum(p_values<=0.1)\n",
    "number_type1_err/total_reject   #FDP"
   ]
  },
  {
   "attachments": {},
   "cell_type": "markdown",
   "metadata": {},
   "source": [
    "q 2.3"
   ]
  },
  {
   "cell_type": "code",
   "execution_count": 17,
   "metadata": {},
   "outputs": [
    {
     "name": "stdout",
     "output_type": "stream",
     "text": [
      "[ True  True  True  True  True  True  True  True  True  True False False\n",
      " False False False False False False False False False False False False\n",
      " False False False False False False False False False False False False\n",
      " False False False False False False False False False False False False\n",
      " False False]\n"
     ]
    }
   ],
   "source": [
    "new_sig = 0.1/50  #new significant value after Bonferroni Correction\n",
    "print(p_values<=new_sig) #If True, it means reject; If False, it means we can't reject H0"
   ]
  },
  {
   "cell_type": "code",
   "execution_count": 18,
   "metadata": {},
   "outputs": [
    {
     "data": {
      "text/plain": [
       "0.09525318199596433"
      ]
     },
     "execution_count": 18,
     "metadata": {},
     "output_type": "execute_result"
    }
   ],
   "source": [
    "\n",
    "1-(1-new_sig)**50 #FWER after Bonferroni Correction"
   ]
  },
  {
   "attachments": {},
   "cell_type": "markdown",
   "metadata": {},
   "source": [
    "q 2.4"
   ]
  },
  {
   "cell_type": "code",
   "execution_count": 19,
   "metadata": {},
   "outputs": [
    {
     "name": "stdout",
     "output_type": "stream",
     "text": [
      "9\n"
     ]
    }
   ],
   "source": [
    "sorted_p = p_values.copy().tolist() \n",
    "sorted_p.sort() # sort the list to increasing order     (note:order of original p-value list stay the same)\n",
    "k=0\n",
    "for i in range(50):\n",
    "    if sorted_p[i] <= (i+1)*0.1/50: # find the largest k such that p(k) <= k/m * a ; i+1 since i starts with 1 instead of\n",
    "        k=i\n",
    "        \n",
    "print(k) # the largest k that we find, our k start at 0\n"
   ]
  },
  {
   "cell_type": "code",
   "execution_count": 20,
   "metadata": {},
   "outputs": [
    {
     "name": "stdout",
     "output_type": "stream",
     "text": [
      "[ True  True  True  True  True  True  True  True  True  True False False\n",
      " False False False False False False False False False False False False\n",
      " False False False False False False False False False False False False\n",
      " False False False False False False False False False False False False\n",
      " False False]\n"
     ]
    }
   ],
   "source": [
    "bh_result = (p_values<=sorted_p[k]) # find H0 the p(j) <= p(k*)\n",
    "print(bh_result)  \n",
    "\n",
    "#If True, it means reject; If False, it means we can't reject H0\n",
    "#result with bh procedure"
   ]
  },
  {
   "cell_type": "code",
   "execution_count": 21,
   "metadata": {},
   "outputs": [
    {
     "data": {
      "text/plain": [
       "0.0"
      ]
     },
     "execution_count": 21,
     "metadata": {},
     "output_type": "execute_result"
    }
   ],
   "source": [
    "1-(1-sorted_p[k])**50 #FWER with bh procedure"
   ]
  },
  {
   "cell_type": "code",
   "execution_count": 22,
   "metadata": {},
   "outputs": [
    {
     "data": {
      "text/plain": [
       "0.0"
      ]
     },
     "execution_count": 22,
     "metadata": {},
     "output_type": "execute_result"
    }
   ],
   "source": [
    "total_reject = sum(bh_result)\n",
    "sum((p_values[10:]<=sorted_p[k]))/total_reject   #FDP with bh procedure"
   ]
  },
  {
   "attachments": {},
   "cell_type": "markdown",
   "metadata": {},
   "source": [
    "Comparing to step 3: FWER for step 4 is smaller, and FDP value are both 0.\n",
    "\n",
    "Comparing to step 1,2: Both FWER and FDP are smaller."
   ]
  },
  {
   "attachments": {},
   "cell_type": "markdown",
   "metadata": {},
   "source": [
    "Everyone in the group contributed equally for this homework"
   ]
  }
 ],
 "metadata": {
  "kernelspec": {
   "display_name": "base",
   "language": "python",
   "name": "python3"
  },
  "language_info": {
   "codemirror_mode": {
    "name": "ipython",
    "version": 3
   },
   "file_extension": ".py",
   "mimetype": "text/x-python",
   "name": "python",
   "nbconvert_exporter": "python",
   "pygments_lexer": "ipython3",
   "version": "3.9.13 (main, Aug 25 2022, 18:29:29) \n[Clang 12.0.0 ]"
  },
  "orig_nbformat": 4,
  "vscode": {
   "interpreter": {
    "hash": "3e129cbb0d59d60985fcd412db9012244779d70efa202abe08c24ca536b8f9fe"
   }
  }
 },
 "nbformat": 4,
 "nbformat_minor": 2
}
