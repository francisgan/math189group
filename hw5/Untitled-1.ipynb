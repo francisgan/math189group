{
 "cells": [
  {
   "cell_type": "code",
   "execution_count": 4,
   "metadata": {},
   "outputs": [],
   "source": [
    "import pandas as pd\n",
    "import numpy as np\n",
    "import os\n",
    "from sklearn.linear_model import LinearRegression\n",
    "import seaborn as sns"
   ]
  },
  {
   "cell_type": "code",
   "execution_count": 3,
   "metadata": {},
   "outputs": [
    {
     "data": {
      "text/html": [
       "<div>\n",
       "<style scoped>\n",
       "    .dataframe tbody tr th:only-of-type {\n",
       "        vertical-align: middle;\n",
       "    }\n",
       "\n",
       "    .dataframe tbody tr th {\n",
       "        vertical-align: top;\n",
       "    }\n",
       "\n",
       "    .dataframe thead th {\n",
       "        text-align: right;\n",
       "    }\n",
       "</style>\n",
       "<table border=\"1\" class=\"dataframe\">\n",
       "  <thead>\n",
       "    <tr style=\"text-align: right;\">\n",
       "      <th></th>\n",
       "      <th>Salary</th>\n",
       "      <th>Hits</th>\n",
       "      <th>Walks</th>\n",
       "      <th>PutOuts</th>\n",
       "      <th>CHits</th>\n",
       "    </tr>\n",
       "  </thead>\n",
       "  <tbody>\n",
       "    <tr>\n",
       "      <th>0</th>\n",
       "      <td>475.0</td>\n",
       "      <td>81</td>\n",
       "      <td>39</td>\n",
       "      <td>632</td>\n",
       "      <td>835</td>\n",
       "    </tr>\n",
       "    <tr>\n",
       "      <th>1</th>\n",
       "      <td>480.0</td>\n",
       "      <td>130</td>\n",
       "      <td>76</td>\n",
       "      <td>880</td>\n",
       "      <td>457</td>\n",
       "    </tr>\n",
       "    <tr>\n",
       "      <th>2</th>\n",
       "      <td>500.0</td>\n",
       "      <td>141</td>\n",
       "      <td>37</td>\n",
       "      <td>200</td>\n",
       "      <td>1575</td>\n",
       "    </tr>\n",
       "    <tr>\n",
       "      <th>3</th>\n",
       "      <td>91.5</td>\n",
       "      <td>87</td>\n",
       "      <td>30</td>\n",
       "      <td>805</td>\n",
       "      <td>101</td>\n",
       "    </tr>\n",
       "    <tr>\n",
       "      <th>4</th>\n",
       "      <td>750.0</td>\n",
       "      <td>169</td>\n",
       "      <td>35</td>\n",
       "      <td>282</td>\n",
       "      <td>1133</td>\n",
       "    </tr>\n",
       "    <tr>\n",
       "      <th>...</th>\n",
       "      <td>...</td>\n",
       "      <td>...</td>\n",
       "      <td>...</td>\n",
       "      <td>...</td>\n",
       "      <td>...</td>\n",
       "    </tr>\n",
       "    <tr>\n",
       "      <th>258</th>\n",
       "      <td>700.0</td>\n",
       "      <td>127</td>\n",
       "      <td>37</td>\n",
       "      <td>325</td>\n",
       "      <td>806</td>\n",
       "    </tr>\n",
       "    <tr>\n",
       "      <th>259</th>\n",
       "      <td>875.0</td>\n",
       "      <td>136</td>\n",
       "      <td>94</td>\n",
       "      <td>313</td>\n",
       "      <td>1511</td>\n",
       "    </tr>\n",
       "    <tr>\n",
       "      <th>260</th>\n",
       "      <td>385.0</td>\n",
       "      <td>126</td>\n",
       "      <td>52</td>\n",
       "      <td>37</td>\n",
       "      <td>433</td>\n",
       "    </tr>\n",
       "    <tr>\n",
       "      <th>261</th>\n",
       "      <td>960.0</td>\n",
       "      <td>144</td>\n",
       "      <td>78</td>\n",
       "      <td>1314</td>\n",
       "      <td>857</td>\n",
       "    </tr>\n",
       "    <tr>\n",
       "      <th>262</th>\n",
       "      <td>1000.0</td>\n",
       "      <td>170</td>\n",
       "      <td>31</td>\n",
       "      <td>408</td>\n",
       "      <td>1457</td>\n",
       "    </tr>\n",
       "  </tbody>\n",
       "</table>\n",
       "<p>263 rows × 5 columns</p>\n",
       "</div>"
      ],
      "text/plain": [
       "     Salary  Hits  Walks  PutOuts  CHits\n",
       "0     475.0    81     39      632    835\n",
       "1     480.0   130     76      880    457\n",
       "2     500.0   141     37      200   1575\n",
       "3      91.5    87     30      805    101\n",
       "4     750.0   169     35      282   1133\n",
       "..      ...   ...    ...      ...    ...\n",
       "258   700.0   127     37      325    806\n",
       "259   875.0   136     94      313   1511\n",
       "260   385.0   126     52       37    433\n",
       "261   960.0   144     78     1314    857\n",
       "262  1000.0   170     31      408   1457\n",
       "\n",
       "[263 rows x 5 columns]"
      ]
     },
     "execution_count": 3,
     "metadata": {},
     "output_type": "execute_result"
    }
   ],
   "source": [
    "df = pd.read_csv('baseball_5.csv')\n",
    "df"
   ]
  },
  {
   "attachments": {},
   "cell_type": "markdown",
   "metadata": {},
   "source": [
    "## Q1"
   ]
  },
  {
   "cell_type": "code",
   "execution_count": 5,
   "metadata": {},
   "outputs": [
    {
     "data": {
      "image/png": "[encoded data removed]",
      "text/plain": [
       "<Figure size 500x500 with 1 Axes>"
      ]
     },
     "metadata": {},
     "output_type": "display_data"
    }
   ],
   "source": [
    "sns.lmplot(data=df, x='Hits', y='Salary', line_kws={'color': 'red'});"
   ]
  },
  {
   "cell_type": "code",
   "execution_count": 17,
   "metadata": {},
   "outputs": [
    {
     "name": "stdout",
     "output_type": "stream",
     "text": [
      "Intercept: 63.04881890502082\n",
      "slope: 4.385439106737879\n"
     ]
    }
   ],
   "source": [
    "lr = LinearRegression()\n",
    "X = df[['Hits']]\n",
    "y = df['Salary']\n",
    "\n",
    "lr.fit(X,y)\n",
    "print('Intercept: '+str(lr.intercept_))\n",
    "print('slope: '+str(lr.coef_[0]))"
   ]
  },
  {
   "cell_type": "code",
   "execution_count": 65,
   "metadata": {},
   "outputs": [
    {
     "name": "stdout",
     "output_type": "stream",
     "text": [
      "Standard error of intertcept: 64.98222495903728\n",
      "Standard error of slope: 0.5560819634701049\n"
     ]
    }
   ],
   "source": [
    "std_hat = np.sqrt( sum((y-lr.predict(X))**2) / (263-2) )\n",
    "\n",
    "SE_intercept = std_hat**2 * (1/263 + df['Hits'].mean()**2 / sum( (df['Hits']- df['Hits'].mean())**2 )  )\n",
    "SE_intercept = np.sqrt(SE_intercept)\n",
    "\n",
    "SE_slpoe = std_hat**2 / sum( (df['Hits']- df['Hits'].mean())**2 )\n",
    "SE_slpoe = np.sqrt(SE_slpoe)\n",
    "print('Standard error of intertcept: ' + str(SE_intercept))\n",
    "print('Standard error of slope: ' + str(SE_slpoe))"
   ]
  },
  {
   "cell_type": "code",
   "execution_count": 75,
   "metadata": {},
   "outputs": [
    {
     "name": "stdout",
     "output_type": "stream",
     "text": [
      "RSS: 43058621.29224819\n",
      "R2: 0.1924355256447966\n"
     ]
    }
   ],
   "source": [
    "RSS = sum((y-lr.predict(X))**2) \n",
    "print('RSS: ' + str(RSS))\n",
    "\n",
    "TSS = y.var() * (263 - 1)\n",
    "\n",
    "R2 = 1 - RSS/TSS\n",
    "print('R2: ' + str(R2))"
   ]
  },
  {
   "attachments": {},
   "cell_type": "markdown",
   "metadata": {},
   "source": [
    "## Q2"
   ]
  },
  {
   "cell_type": "code",
   "execution_count": 78,
   "metadata": {},
   "outputs": [
    {
     "name": "stdout",
     "output_type": "stream",
     "text": [
      "Intercept: -109.83480833885721\n",
      "regression coefficients: [1.84600767 3.46111076 0.27090627 0.31245668]\n"
     ]
    }
   ],
   "source": [
    "mul_lr = LinearRegression()\n",
    "X = df[['Hits','Walks','PutOuts','CHits']]\n",
    "y = df['Salary']\n",
    "\n",
    "mul_lr.fit(X,y)\n",
    "print('Intercept: '+str(mul_lr.intercept_))\n",
    "print('regression coefficients: '+str(mul_lr.coef_))"
   ]
  },
  {
   "cell_type": "code",
   "execution_count": 125,
   "metadata": {},
   "outputs": [],
   "source": [
    "std_hat = np.sqrt( sum((y-mul_lr.predict(X))**2) / (263-4-1) )"
   ]
  },
  {
   "cell_type": "code",
   "execution_count": 137,
   "metadata": {},
   "outputs": [
    {
     "name": "stdout",
     "output_type": "stream",
     "text": [
      "SE of coeficients: [0.5810610329611922, 1.211660935036406, 0.07861078317799443, 0.033496472043460006]\n"
     ]
    }
   ],
   "source": [
    "df['b0'] = 1\n",
    "Xm = np.matrix(df[['b0','Hits','Walks','PutOuts','CHits']])\n",
    "\n",
    "XX1 = np.linalg.inv( np.matmul(Xm.transpose(),Xm) )\n",
    "\n",
    "SE_coeficients = [np.sqrt(XX1[i,i]) * std_hat for i in range(1,5)]\n",
    "print('SE of coeficients: ' + str(SE_coeficients))\n"
   ]
  },
  {
   "cell_type": "code",
   "execution_count": 138,
   "metadata": {},
   "outputs": [
    {
     "name": "stdout",
     "output_type": "stream",
     "text": [
      "RSS: 29223383.934973385\n",
      "R2: 0.44341797710453945\n"
     ]
    }
   ],
   "source": [
    "RSS = sum((y-mul_lr.predict(X))**2) \n",
    "print('RSS: ' + str(RSS))\n",
    "\n",
    "TSS = y.var() * (263 - 4 - 1)\n",
    "\n",
    "R2 = 1 - RSS/TSS\n",
    "print('R2: ' + str(R2))"
   ]
  },
  {
   "cell_type": "code",
   "execution_count": 140,
   "metadata": {},
   "outputs": [
    {
     "data": {
      "text/plain": [
       "array([ True,  True,  True,  True])"
      ]
     },
     "execution_count": 140,
     "metadata": {},
     "output_type": "execute_result"
    }
   ],
   "source": [
    "mul_lr.coef_/SE_coeficients > 1.96 #True means reject"
   ]
  },
  {
   "cell_type": "code",
   "execution_count": null,
   "metadata": {},
   "outputs": [],
   "source": []
  }
 ],
 "metadata": {
  "kernelspec": {
   "display_name": "base",
   "language": "python",
   "name": "python3"
  },
  "language_info": {
   "codemirror_mode": {
    "name": "ipython",
    "version": 3
   },
   "file_extension": ".py",
   "mimetype": "text/x-python",
   "name": "python",
   "nbconvert_exporter": "python",
   "pygments_lexer": "ipython3",
   "version": "3.9.13"
  },
  "orig_nbformat": 4,
  "vscode": {
   "interpreter": {
    "hash": "3e129cbb0d59d60985fcd412db9012244779d70efa202abe08c24ca536b8f9fe"
   }
  }
 },
 "nbformat": 4,
 "nbformat_minor": 2
}
